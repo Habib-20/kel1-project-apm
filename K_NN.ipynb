{
  "nbformat": 4,
  "nbformat_minor": 0,
  "metadata": {
    "colab": {
      "name": "K-NN.ipynb",
      "provenance": [],
      "authorship_tag": "ABX9TyMd1JmLDqGv1eNNFVFMUsNn",
      "include_colab_link": true
    },
    "kernelspec": {
      "name": "python3",
      "display_name": "Python 3"
    },
    "language_info": {
      "name": "python"
    }
  },
  "cells": [
    {
      "cell_type": "markdown",
      "metadata": {
        "id": "view-in-github",
        "colab_type": "text"
      },
      "source": [
        "<a href=\"https://colab.research.google.com/github/Habib-20/kel1-project-apm/blob/main/K_NN.ipynb\" target=\"_parent\"><img src=\"https://colab.research.google.com/assets/colab-badge.svg\" alt=\"Open In Colab\"/></a>"
      ]
    },
    {
      "cell_type": "code",
      "execution_count": 3,
      "metadata": {
        "id": "EOrRYnPdJ-aQ"
      },
      "outputs": [],
      "source": [
        "# import library\n",
        "import pandas as pd\n",
        "import numpy as np\n",
        "# read data lulus.csv to pandas dataframe\n",
        "predikat = pd.read_csv(\"lulus.csv\")\n"
      ]
    },
    {
      "cell_type": "code",
      "source": [
        "predikat.head()"
      ],
      "metadata": {
        "colab": {
          "base_uri": "https://localhost:8080/",
          "height": 206
        },
        "id": "71OXzkiCQdaI",
        "outputId": "f16d0cac-5a63-42e0-cf64-74e6db143f05"
      },
      "execution_count": 4,
      "outputs": [
        {
          "output_type": "execute_result",
          "data": {
            "text/plain": [
              "    IPK  Pelatihan Pengembangan Diri  Prestasi  Forum Komunikasi Kuliah  \\\n",
              "0  3.26                            6         1                        2   \n",
              "1  3.12                            6         0                        1   \n",
              "2  3.29                            6         4                        3   \n",
              "3  3.10                            2         0                        6   \n",
              "4  3.12                            3         0                        4   \n",
              "\n",
              "   Kegiatan Organisasi  Lulus Cepat  \n",
              "0                    4            0  \n",
              "1                    1            0  \n",
              "2                    3            0  \n",
              "3                    2            1  \n",
              "4                    2            0  "
            ],
            "text/html": [
              "\n",
              "  <div id=\"df-64b4f6bc-26be-49d0-bbc2-23870fab46a1\">\n",
              "    <div class=\"colab-df-container\">\n",
              "      <div>\n",
              "<style scoped>\n",
              "    .dataframe tbody tr th:only-of-type {\n",
              "        vertical-align: middle;\n",
              "    }\n",
              "\n",
              "    .dataframe tbody tr th {\n",
              "        vertical-align: top;\n",
              "    }\n",
              "\n",
              "    .dataframe thead th {\n",
              "        text-align: right;\n",
              "    }\n",
              "</style>\n",
              "<table border=\"1\" class=\"dataframe\">\n",
              "  <thead>\n",
              "    <tr style=\"text-align: right;\">\n",
              "      <th></th>\n",
              "      <th>IPK</th>\n",
              "      <th>Pelatihan Pengembangan Diri</th>\n",
              "      <th>Prestasi</th>\n",
              "      <th>Forum Komunikasi Kuliah</th>\n",
              "      <th>Kegiatan Organisasi</th>\n",
              "      <th>Lulus Cepat</th>\n",
              "    </tr>\n",
              "  </thead>\n",
              "  <tbody>\n",
              "    <tr>\n",
              "      <th>0</th>\n",
              "      <td>3.26</td>\n",
              "      <td>6</td>\n",
              "      <td>1</td>\n",
              "      <td>2</td>\n",
              "      <td>4</td>\n",
              "      <td>0</td>\n",
              "    </tr>\n",
              "    <tr>\n",
              "      <th>1</th>\n",
              "      <td>3.12</td>\n",
              "      <td>6</td>\n",
              "      <td>0</td>\n",
              "      <td>1</td>\n",
              "      <td>1</td>\n",
              "      <td>0</td>\n",
              "    </tr>\n",
              "    <tr>\n",
              "      <th>2</th>\n",
              "      <td>3.29</td>\n",
              "      <td>6</td>\n",
              "      <td>4</td>\n",
              "      <td>3</td>\n",
              "      <td>3</td>\n",
              "      <td>0</td>\n",
              "    </tr>\n",
              "    <tr>\n",
              "      <th>3</th>\n",
              "      <td>3.10</td>\n",
              "      <td>2</td>\n",
              "      <td>0</td>\n",
              "      <td>6</td>\n",
              "      <td>2</td>\n",
              "      <td>1</td>\n",
              "    </tr>\n",
              "    <tr>\n",
              "      <th>4</th>\n",
              "      <td>3.12</td>\n",
              "      <td>3</td>\n",
              "      <td>0</td>\n",
              "      <td>4</td>\n",
              "      <td>2</td>\n",
              "      <td>0</td>\n",
              "    </tr>\n",
              "  </tbody>\n",
              "</table>\n",
              "</div>\n",
              "      <button class=\"colab-df-convert\" onclick=\"convertToInteractive('df-64b4f6bc-26be-49d0-bbc2-23870fab46a1')\"\n",
              "              title=\"Convert this dataframe to an interactive table.\"\n",
              "              style=\"display:none;\">\n",
              "        \n",
              "  <svg xmlns=\"http://www.w3.org/2000/svg\" height=\"24px\"viewBox=\"0 0 24 24\"\n",
              "       width=\"24px\">\n",
              "    <path d=\"M0 0h24v24H0V0z\" fill=\"none\"/>\n",
              "    <path d=\"M18.56 5.44l.94 2.06.94-2.06 2.06-.94-2.06-.94-.94-2.06-.94 2.06-2.06.94zm-11 1L8.5 8.5l.94-2.06 2.06-.94-2.06-.94L8.5 2.5l-.94 2.06-2.06.94zm10 10l.94 2.06.94-2.06 2.06-.94-2.06-.94-.94-2.06-.94 2.06-2.06.94z\"/><path d=\"M17.41 7.96l-1.37-1.37c-.4-.4-.92-.59-1.43-.59-.52 0-1.04.2-1.43.59L10.3 9.45l-7.72 7.72c-.78.78-.78 2.05 0 2.83L4 21.41c.39.39.9.59 1.41.59.51 0 1.02-.2 1.41-.59l7.78-7.78 2.81-2.81c.8-.78.8-2.07 0-2.86zM5.41 20L4 18.59l7.72-7.72 1.47 1.35L5.41 20z\"/>\n",
              "  </svg>\n",
              "      </button>\n",
              "      \n",
              "  <style>\n",
              "    .colab-df-container {\n",
              "      display:flex;\n",
              "      flex-wrap:wrap;\n",
              "      gap: 12px;\n",
              "    }\n",
              "\n",
              "    .colab-df-convert {\n",
              "      background-color: #E8F0FE;\n",
              "      border: none;\n",
              "      border-radius: 50%;\n",
              "      cursor: pointer;\n",
              "      display: none;\n",
              "      fill: #1967D2;\n",
              "      height: 32px;\n",
              "      padding: 0 0 0 0;\n",
              "      width: 32px;\n",
              "    }\n",
              "\n",
              "    .colab-df-convert:hover {\n",
              "      background-color: #E2EBFA;\n",
              "      box-shadow: 0px 1px 2px rgba(60, 64, 67, 0.3), 0px 1px 3px 1px rgba(60, 64, 67, 0.15);\n",
              "      fill: #174EA6;\n",
              "    }\n",
              "\n",
              "    [theme=dark] .colab-df-convert {\n",
              "      background-color: #3B4455;\n",
              "      fill: #D2E3FC;\n",
              "    }\n",
              "\n",
              "    [theme=dark] .colab-df-convert:hover {\n",
              "      background-color: #434B5C;\n",
              "      box-shadow: 0px 1px 3px 1px rgba(0, 0, 0, 0.15);\n",
              "      filter: drop-shadow(0px 1px 2px rgba(0, 0, 0, 0.3));\n",
              "      fill: #FFFFFF;\n",
              "    }\n",
              "  </style>\n",
              "\n",
              "      <script>\n",
              "        const buttonEl =\n",
              "          document.querySelector('#df-64b4f6bc-26be-49d0-bbc2-23870fab46a1 button.colab-df-convert');\n",
              "        buttonEl.style.display =\n",
              "          google.colab.kernel.accessAllowed ? 'block' : 'none';\n",
              "\n",
              "        async function convertToInteractive(key) {\n",
              "          const element = document.querySelector('#df-64b4f6bc-26be-49d0-bbc2-23870fab46a1');\n",
              "          const dataTable =\n",
              "            await google.colab.kernel.invokeFunction('convertToInteractive',\n",
              "                                                     [key], {});\n",
              "          if (!dataTable) return;\n",
              "\n",
              "          const docLinkHtml = 'Like what you see? Visit the ' +\n",
              "            '<a target=\"_blank\" href=https://colab.research.google.com/notebooks/data_table.ipynb>data table notebook</a>'\n",
              "            + ' to learn more about interactive tables.';\n",
              "          element.innerHTML = '';\n",
              "          dataTable['output_type'] = 'display_data';\n",
              "          await google.colab.output.renderOutput(dataTable, element);\n",
              "          const docLink = document.createElement('div');\n",
              "          docLink.innerHTML = docLinkHtml;\n",
              "          element.appendChild(docLink);\n",
              "        }\n",
              "      </script>\n",
              "    </div>\n",
              "  </div>\n",
              "  "
            ]
          },
          "metadata": {},
          "execution_count": 4
        }
      ]
    },
    {
      "cell_type": "code",
      "source": [
        "#menentukan variabel independen (feature)\n",
        "x = predikat.drop([\"Lulus Cepat\"], axis=1)\n",
        "\n",
        "#menentukan variabel dependen (target/class)\n",
        "y = predikat[\"Lulus Cepat\"]"
      ],
      "metadata": {
        "id": "pVdtM7lZQgqm"
      },
      "execution_count": 5,
      "outputs": []
    },
    {
      "cell_type": "code",
      "source": [
        "# import package model selection dari Sklearn train_test_split untuk membagi data\n",
        "from sklearn.model_selection import train_test_split\n",
        "\n",
        "# membagi data training dan data testing \n",
        "x_train, x_test, y_train, y_test = train_test_split(x, y, test_size=0.20)"
      ],
      "metadata": {
        "id": "-zoFHV5fQ2Tf"
      },
      "execution_count": 6,
      "outputs": []
    },
    {
      "cell_type": "code",
      "source": [
        "#mengaktifkan package sklearn.preprocessing untuk membantu melakukan standarisasi data\n",
        "from sklearn.preprocessing import StandardScaler\n",
        "\n",
        "#membuat objek standarisasi\n",
        "standard_scaler = StandardScaler()\n",
        "standard_scaler.fit(x_train)\n",
        "\n",
        "x_train = standard_scaler.transform(x_train)\n",
        "x_test = standard_scaler.transform(x_test)"
      ],
      "metadata": {
        "id": "bW68_Uo0RWnE"
      },
      "execution_count": 7,
      "outputs": []
    },
    {
      "cell_type": "code",
      "source": [
        "# K-Nearest Neighbor(KNN) untuk classifier data\n",
        "from sklearn.neighbors import KNeighborsClassifier\n",
        "\n",
        "#mengaktifkan fungsi kalsifikasi untuk KNN\n",
        "knn = KNeighborsClassifier(n_neighbors=4)\n",
        "#memasukkan data train pada objek fungsi klasifikasi KNN\n",
        "knn.fit(x_train, y_train)"
      ],
      "metadata": {
        "colab": {
          "base_uri": "https://localhost:8080/"
        },
        "id": "7d9IhzRsRdjS",
        "outputId": "72b3d9ea-6396-4954-9f62-7a5d2e182b5a"
      },
      "execution_count": 8,
      "outputs": [
        {
          "output_type": "execute_result",
          "data": {
            "text/plain": [
              "KNeighborsClassifier(n_neighbors=4)"
            ]
          },
          "metadata": {},
          "execution_count": 8
        }
      ]
    },
    {
      "cell_type": "code",
      "source": [
        "# Menentukan prediksi KKN dari data test (data aktual)\n",
        "y_predict = knn.predict(x_test)\n",
        "y_predict"
      ],
      "metadata": {
        "colab": {
          "base_uri": "https://localhost:8080/"
        },
        "id": "eBACu7nMRe8k",
        "outputId": "f1bf70dc-a123-47c2-98c7-f12182088c1f"
      },
      "execution_count": 9,
      "outputs": [
        {
          "output_type": "execute_result",
          "data": {
            "text/plain": [
              "array([1, 1, 1, 1, 1, 1, 0, 0, 1, 0])"
            ]
          },
          "metadata": {},
          "execution_count": 9
        }
      ]
    },
    {
      "cell_type": "code",
      "source": [
        "# melihat akurasi data hasil prediksi dengan data aktual\n",
        "# classification_report digunakan untuk membuat report ttg metriks kalsifikasi\n",
        "# confusion_matrix merupakan matriks untuk menghitung akurasi dari nilai prediksi dan aktual\n",
        "from sklearn.metrics import classification_report, confusion_matrix\n",
        "\n",
        "#menampilkan matriks hasil prediksi\n",
        "print(confusion_matrix(y_test, y_predict))"
      ],
      "metadata": {
        "colab": {
          "base_uri": "https://localhost:8080/"
        },
        "id": "NU76EgnKRk_G",
        "outputId": "44ef7791-9c6c-43ee-d075-b628345dd07d"
      },
      "execution_count": 10,
      "outputs": [
        {
          "output_type": "stream",
          "name": "stdout",
          "text": [
            "[[1 4]\n",
            " [2 3]]\n"
          ]
        }
      ]
    },
    {
      "cell_type": "code",
      "source": [
        "#ketepatan hasil prediksi\n",
        "print(classification_report(y_test, y_predict))"
      ],
      "metadata": {
        "colab": {
          "base_uri": "https://localhost:8080/"
        },
        "id": "b7MGmVCdRxRn",
        "outputId": "7e7cba7f-0560-42f9-f43c-486a788f3037"
      },
      "execution_count": 11,
      "outputs": [
        {
          "output_type": "stream",
          "name": "stdout",
          "text": [
            "              precision    recall  f1-score   support\n",
            "\n",
            "           0       0.33      0.20      0.25         5\n",
            "           1       0.43      0.60      0.50         5\n",
            "\n",
            "    accuracy                           0.40        10\n",
            "   macro avg       0.38      0.40      0.38        10\n",
            "weighted avg       0.38      0.40      0.38        10\n",
            "\n"
          ]
        }
      ]
    },
    {
      "cell_type": "code",
      "source": [
        "error = []\n",
        "\n",
        "# Calculating error for K values between 1 and 40\n",
        "for i in range(1, 40):  \n",
        "    knn_clf = KNeighborsClassifier(n_neighbors=i)\n",
        "    knn_clf.fit(x_train, y_train)\n",
        "    pred_i = knn_clf.predict(x_test)\n",
        "    error.append(np.mean(pred_i != y_test))\n",
        "\n",
        "import matplotlib.pyplot as plt \n",
        "\n",
        "plt.figure(figsize=(12, 6))  \n",
        "plt.plot(range(1, 40), error, color='red', linestyle='dashed', marker='o',  \n",
        "         markerfacecolor='blue', markersize=10)\n",
        "plt.title('Error Rate Nilai K')  \n",
        "plt.xlabel('Nilai K')  \n",
        "plt.ylabel('Error rata-rata') "
      ],
      "metadata": {
        "colab": {
          "base_uri": "https://localhost:8080/",
          "height": 421
        },
        "id": "yhngKjQbRyW0",
        "outputId": "a5ca6541-ae43-4ecb-bbce-4fc4ad50600d"
      },
      "execution_count": 12,
      "outputs": [
        {
          "output_type": "execute_result",
          "data": {
            "text/plain": [
              "Text(0, 0.5, 'Error rata-rata')"
            ]
          },
          "metadata": {},
          "execution_count": 12
        },
        {
          "output_type": "display_data",
          "data": {
            "text/plain": [
              "<Figure size 864x432 with 1 Axes>"
            ],
            "image/png": "[encoded data removed]"
          },
          "metadata": {
            "needs_background": "light"
          }
        }
      ]
    },
    {
      "cell_type": "code",
      "source": [
        "#Uji classifier\n",
        "\n",
        "ipk = float(input(\"Masukkan nilai IPK: \"))\n",
        "plthan = int(input(\"Masukkan jumlah ikut pelatihan/pengembangan diri: \"))\n",
        "prestasi = int(input(\"Masukkan jumlah prestasi: \"))\n",
        "forum = int(input(\"Masukkan jumlah keterlibatan dalam forum: \"))\n",
        "organisasi = int(input(\"Masukkan jumlah ikutserta organisasi: \"))\n",
        "\n",
        "n = np.array([[ipk,plthan,prestasi,forum,organisasi]])\n",
        "pred_n = knn.predict(n)\n",
        "\n",
        "if pred_n == 0:\n",
        "    print(\"Lulus tidak cepat\")\n",
        "elif pred_n == 1:\n",
        "    print(\"Lulus cepat\")"
      ],
      "metadata": {
        "colab": {
          "base_uri": "https://localhost:8080/"
        },
        "id": "E1DlDNOcR7yL",
        "outputId": "15da5ad7-f07b-43c7-c027-6afa444f0a3f"
      },
      "execution_count": 14,
      "outputs": [
        {
          "output_type": "stream",
          "name": "stdout",
          "text": [
            "Masukkan nilai IPK: 3.9\n",
            "Masukkan jumlah ikut pelatihan/pengembangan diri: 2\n",
            "Masukkan jumlah prestasi: 1\n",
            "Masukkan jumlah keterlibatan dalam forum: 4\n",
            "Masukkan jumlah ikutserta organisasi: 1\n",
            "Lulus cepat\n"
          ]
        }
      ]
    }
  ]
}