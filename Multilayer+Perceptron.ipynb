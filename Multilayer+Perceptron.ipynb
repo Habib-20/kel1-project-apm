{
  "nbformat": 4,
  "nbformat_minor": 0,
  "metadata": {
    "colab": {
      "name": "Multilayer+Perceptron.ipynb",
      "provenance": [],
      "authorship_tag": "ABX9TyNzUrZV4B5QGmz6a6bA0SqU",
      "include_colab_link": true
    },
    "kernelspec": {
      "name": "python3",
      "display_name": "Python 3"
    },
    "language_info": {
      "name": "python"
    }
  },
  "cells": [
    {
      "cell_type": "markdown",
      "metadata": {
        "id": "view-in-github",
        "colab_type": "text"
      },
      "source": [
        "<a href=\"https://colab.research.google.com/github/Habib-20/kel1-project-apm/blob/main/Multilayer%2BPerceptron.ipynb\" target=\"_parent\"><img src=\"https://colab.research.google.com/assets/colab-badge.svg\" alt=\"Open In Colab\"/></a>"
      ]
    },
    {
      "cell_type": "code",
      "source": [
        "# Imports \n",
        "import numpy as np\n",
        "import pandas as pd\n",
        "import os\n",
        "from sklearn.feature_extraction.text import CountVectorizer\n",
        "from sklearn.model_selection import train_test_split\n",
        "from sklearn.metrics import accuracy_score, precision_score, recall_score\n",
        "from sklearn.decomposition import PCA\n",
        "from sklearn.neural_network import MLPClassifier"
      ],
      "metadata": {
        "id": "R3E_CEFidQD9"
      },
      "execution_count": 4,
      "outputs": []
    },
    {
      "cell_type": "code",
      "source": [
        "# Load Dataset \n",
        "df = pd.read_csv('spam.csv', encoding = 'latin-1' )"
      ],
      "metadata": {
        "id": "UuFmgBfSdTvt"
      },
      "execution_count": 5,
      "outputs": []
    },
    {
      "cell_type": "code",
      "source": [
        "# Keep only necessary columns\n",
        "df = df[['v2', 'v1']]"
      ],
      "metadata": {
        "id": "B9wQN62xdZOu"
      },
      "execution_count": 6,
      "outputs": []
    },
    {
      "cell_type": "code",
      "source": [
        "# Rename columns\n",
        "df.columns = ['SMS', 'Type']"
      ],
      "metadata": {
        "id": "doi3MUfLdbI4"
      },
      "execution_count": 7,
      "outputs": []
    },
    {
      "cell_type": "code",
      "source": [
        "# Let's process the text data \n",
        "# Instantiate count vectorizer \n",
        "countvec = CountVectorizer(ngram_range=(1,4), \n",
        "                           stop_words='english',  \n",
        "                           strip_accents='unicode',\n",
        "                           max_features=1000)\n",
        "\n",
        "X = df.SMS.values\n",
        "y = df.Type.values"
      ],
      "metadata": {
        "id": "MZNHxp9SddsE"
      },
      "execution_count": 8,
      "outputs": []
    },
    {
      "cell_type": "code",
      "source": [
        "# Split data into train and test sets\n",
        "X_train, X_test, y_train, y_test = train_test_split(X, y, \n",
        "                                                    test_size = 0.3, \n",
        "                                                    random_state = 0)"
      ],
      "metadata": {
        "id": "pOL7g-tSdf3N"
      },
      "execution_count": 9,
      "outputs": []
    },
    {
      "cell_type": "code",
      "source": [
        "# Create bag of words\n",
        "X_train = countvec.fit_transform(X_train)\n",
        "X_test = countvec.transform(X_test)"
      ],
      "metadata": {
        "id": "LDEo8LTEdhHm"
      },
      "execution_count": 10,
      "outputs": []
    },
    {
      "cell_type": "code",
      "source": [
        "# Instantiate multilayer perceptron model\n",
        "mlp = MLPClassifier(hidden_layer_sizes=(400,400,100), verbose=True)"
      ],
      "metadata": {
        "id": "IwcyDIdJdjCh"
      },
      "execution_count": 11,
      "outputs": []
    },
    {
      "cell_type": "code",
      "source": [
        "# Train the perceptron model\n",
        "mlp.fit(X_train, y_train)"
      ],
      "metadata": {
        "colab": {
          "base_uri": "https://localhost:8080/"
        },
        "id": "Mppdo8Ltdlgt",
        "outputId": "96b0370f-7a31-4c87-d6d4-d759bdd0de21"
      },
      "execution_count": 12,
      "outputs": [
        {
          "output_type": "stream",
          "name": "stdout",
          "text": [
            "Iteration 1, loss = 0.37240589\n",
            "Iteration 2, loss = 0.09528888\n",
            "Iteration 3, loss = 0.03062961\n",
            "Iteration 4, loss = 0.01296490\n",
            "Iteration 5, loss = 0.00845251\n",
            "Iteration 6, loss = 0.00639300\n",
            "Iteration 7, loss = 0.00535356\n",
            "Iteration 8, loss = 0.00486350\n",
            "Iteration 9, loss = 0.00455927\n",
            "Iteration 10, loss = 0.00448490\n",
            "Iteration 11, loss = 0.00453145\n",
            "Iteration 12, loss = 0.00440593\n",
            "Iteration 13, loss = 0.00435830\n",
            "Iteration 14, loss = 0.00428565\n",
            "Iteration 15, loss = 0.00431296\n",
            "Iteration 16, loss = 0.00458771\n",
            "Iteration 17, loss = 0.00438523\n",
            "Iteration 18, loss = 0.00434958\n",
            "Iteration 19, loss = 0.00426394\n",
            "Iteration 20, loss = 0.00468390\n",
            "Training loss did not improve more than tol=0.000100 for 10 consecutive epochs. Stopping.\n"
          ]
        },
        {
          "output_type": "execute_result",
          "data": {
            "text/plain": [
              "MLPClassifier(hidden_layer_sizes=(400, 400, 100), verbose=True)"
            ]
          },
          "metadata": {},
          "execution_count": 12
        }
      ]
    },
    {
      "cell_type": "code",
      "source": [
        "# Make Predictions\n",
        "y_pred = mlp.predict(X_test)\n",
        "\n",
        "print('\\n Accuracy: {}%'.format(round(accuracy_score(y_test, y_pred), 2)*100))\n",
        "print('\\n Precision: {}%'.format(round(precision_score(y_test, y_pred, pos_label='spam'), 2)*100))\n",
        "print('\\n Recall: {}%'.format(round(recall_score(y_test, y_pred, pos_label='spam'),2)*100))"
      ],
      "metadata": {
        "colab": {
          "base_uri": "https://localhost:8080/"
        },
        "id": "zKJua0r-dsyT",
        "outputId": "8d685700-1759-40b4-aaf2-fb69acb91873"
      },
      "execution_count": null,
      "outputs": [
        {
          "output_type": "stream",
          "name": "stdout",
          "text": [
            "\n",
            " Accuracy: 99.0%\n",
            "\n",
            " Precision: 98.0%\n",
            "\n",
            " Recall: 94.0%\n"
          ]
        }
      ]
    }
  ]
}